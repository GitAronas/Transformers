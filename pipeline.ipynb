{
  "cells": [
    {
      "cell_type": "code",
      "execution_count": null,
      "id": "4ff6c10f",
      "metadata": {
        "id": "4ff6c10f"
      },
      "outputs": [],
      "source": [
        "!pip install transformers\n",
        "!pip install sentencepiece\n",
        "!pip install sacremoses\n",
        "\n",
        "import pandas as pd\n",
        "from transformers import pipeline"
      ]
    },
    {
      "cell_type": "code",
      "execution_count": null,
      "id": "abefed36",
      "metadata": {
        "id": "abefed36"
      },
      "outputs": [],
      "source": [
        "text = \"\"\"Dear Amazon, last week I ordered an Optimus Prime action figure\n",
        "from your online store in Germany. Unfortunately, when I opened the package,\n",
        "I discovered to my horror that I had been sent an action figure of Megatron\n",
        "instead! As a lifelong enemy of the Decepticons, I hope you can understand my\n",
        "dilemma. To resolve the issue, I demand an exchange of Megatron for the\n",
        "Optimus Prime figure I ordered. Enclosed are copies of my records concerning\n",
        "this purchase. I expect to hear from you soon. Sincerely, Bumblebee.\"\"\""
      ]
    },
    {
      "cell_type": "code",
      "execution_count": null,
      "id": "639d401a",
      "metadata": {
        "id": "639d401a"
      },
      "outputs": [],
      "source": [
        "classifier = pipeline('text-classification')\n",
        "\n",
        "output = classifier(text)\n",
        "pd.DataFrame(output)"
      ]
    },
    {
      "cell_type": "code",
      "execution_count": null,
      "id": "6f25233d",
      "metadata": {
        "id": "6f25233d"
      },
      "outputs": [],
      "source": [
        "ner_tagger = pipeline('ner', aggregation_strategy='simple')\n",
        "\n",
        "output = ner_tagger('text')\n",
        "pd.DataFrame(output)"
      ]
    },
    {
      "cell_type": "code",
      "execution_count": null,
      "id": "ef0faa34",
      "metadata": {
        "id": "ef0faa34"
      },
      "outputs": [],
      "source": [
        "reader = pipeline('question-answering')\n",
        "\n",
        "question = 'What does the customer want?'\n",
        "output = reader(question=question, context=text)\n",
        "pd.DataFrame([output])"
      ]
    },
    {
      "cell_type": "code",
      "execution_count": null,
      "id": "7a1f6db7",
      "metadata": {
        "id": "7a1f6db7"
      },
      "outputs": [],
      "source": [
        "summarizer = pipeline('summarization')\n",
        "\n",
        "output = summarizer(text, max_length=56, clean_up_tokenization_spaces=True)\n",
        "print(output[0]['summary_text'])"
      ]
    },
    {
      "cell_type": "code",
      "execution_count": null,
      "id": "019ff4dc",
      "metadata": {
        "id": "019ff4dc"
      },
      "outputs": [],
      "source": [
        "translator = pipeline('translation_en_to_de', model='Helsinki-NLP/opus-mt-en-de')\n",
        "\n",
        "output = translator(text, clean_up_tokenization_spaces=True, min_length=100)\n",
        "print(output[0]['translation_text'])"
      ]
    },
    {
      "cell_type": "code",
      "execution_count": null,
      "id": "0483955a",
      "metadata": {
        "id": "0483955a"
      },
      "outputs": [],
      "source": [
        "generator = pipeline('text-generation')\n",
        "\n",
        "response = 'Dear Bumblebee, I am sorry to hear that your order was mixed up.'\n",
        "prompt = text + '\\n\\nCustor service response:\\n' + response\n",
        "output = generator(prompt, max_length=200)\n",
        "print(output[0]['generated_text'])"
      ]
    }
  ],
  "metadata": {
    "kernelspec": {
      "display_name": "Python 3",
      "name": "python3"
    },
    "language_info": {
      "name": "python"
    },
    "colab": {
      "name": "01 Hello Transformers.ipynb",
      "provenance": []
    },
    "gpuClass": "standard"
  },
  "nbformat": 4,
  "nbformat_minor": 5
}